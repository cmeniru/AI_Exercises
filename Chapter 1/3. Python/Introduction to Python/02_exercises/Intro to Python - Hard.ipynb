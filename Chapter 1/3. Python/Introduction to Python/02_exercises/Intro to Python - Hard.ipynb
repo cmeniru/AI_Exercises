{
 "cells": [
  {
   "cell_type": "markdown",
   "source": [
    "Here you have a collection of guided exercises for the first class on Python. <br>\n",
    "The exercises are divided by topic, following the topics reviewed during the theory session, and for each topic you have some mandatory exercises, and other optional exercises, which you are invited to do if you still have time after the mandatory exercises. <br>\n",
    "\n",
    "Remember that you have 5 hours to solve these exercises, after which we will review the most interesting exercises together. If you don't finish all the exercises, you can work on them tonightor tomorrow. \n",
    "\n",
    "At the end of the class, we will upload the code with the solutions of the exercises so that you can review them again if needed. If you still have not finished some exercises, try to do them first by yourself, before taking a look at the solutions: you are doing these exercises for yourself, so it is always the best to do them your way first, as it is the fastest way to learn!"
   ],
   "metadata": {}
  },
  {
   "cell_type": "markdown",
   "source": [
    "**Exercise 4.1 (🌶️🌶️):** Define a function that receives a string parameter, and returns an integer indicating the count for all the letters of the alphabet that there are in the string. The expected output format is in a **dictionary** with the relevant keys and values. The capital version of a lower case letter is considered to be the same letter.\n",
    "\n",
    "This should sound quite familiar, try to do it without looking at your old code ;)\n",
    "\n",
    "**What is the challenge?**: Don't code 27 times the same line of code, learn how to do things that scale well."
   ],
   "metadata": {}
  },
  {
   "cell_type": "code",
   "execution_count": 2,
   "source": [
    "def Count_letters (instr):\r\n",
    "    instr_nospacers = str(instr).replace(\" \",\"\")\r\n",
    "    input_string = sorted(str(instr_nospacers).casefold())\r\n",
    "    counter_dict = {}\r\n",
    "\r\n",
    "    for each_letter in input_string:\r\n",
    "        if counter_dict.get(each_letter):\r\n",
    "            counter_dict[each_letter] += 1\r\n",
    "        else:\r\n",
    "            counter_dict[each_letter]  = 1\r\n",
    "\r\n",
    "    return (counter_dict)\r\n",
    "\r\n",
    "\r\n",
    "Count_letters (\"Hello my name is Irene\")\r\n"
   ],
   "outputs": [
    {
     "output_type": "execute_result",
     "data": {
      "text/plain": [
       "{'a': 1,\n",
       " 'e': 4,\n",
       " 'h': 1,\n",
       " 'i': 2,\n",
       " 'l': 2,\n",
       " 'm': 2,\n",
       " 'n': 2,\n",
       " 'o': 1,\n",
       " 'r': 1,\n",
       " 's': 1,\n",
       " 'y': 1}"
      ]
     },
     "metadata": {},
     "execution_count": 2
    }
   ],
   "metadata": {}
  },
  {
   "cell_type": "markdown",
   "source": [
    "**Exercise 5.6 (🌶️🌶️):** A prime number is a positive integer that is dividable by exactly two different numbers, namely 1 and itself. The lowest (and only even) prime number is 2. The first 10 prime numbers are 2, 3, 5, 7, 11, 13, 17, 19, 23, and 29. Write a function that returns a **list off all prime numbers** below a given number.\n",
    "\n",
    "Hint: In a loop where you test the possible dividers of the number, you can conclude that the number is not prime as soon as you encounter a number other than 1 or the number itself that divides it. However, you can *only* conclude that it actually *is* prime after you have tested all possible dividers.\n",
    "\n",
    "**What is the challenge here? You have to try to optimize your code and try to make it work for the highest prime number you can encounter before you run out of memory. For low numbers you should know how to do it already**"
   ],
   "metadata": {}
  },
  {
   "cell_type": "code",
   "execution_count": 5,
   "source": [
    "def prime(max_numb):\r\n",
    "    primes = []\r\n",
    "    for possiblePrime in range(2, max_numb+1):\r\n",
    "        \r\n",
    "        # Assume number is prime until shown it is not. \r\n",
    "        isPrime = True\r\n",
    "        for i in range(2, possiblePrime):\r\n",
    "            if possiblePrime % i == 0:\r\n",
    "                isPrime = False\r\n",
    "                break\r\n",
    "        \r\n",
    "        if isPrime:\r\n",
    "            primes.append(possiblePrime)\r\n",
    "    print(primes)\r\n",
    "\r\n",
    "\r\n",
    "prime(30)"
   ],
   "outputs": [
    {
     "output_type": "stream",
     "name": "stdout",
     "text": [
      "[2, 3, 5, 7, 11, 13, 17, 19, 23, 29]\n"
     ]
    }
   ],
   "metadata": {}
  },
  {
   "cell_type": "markdown",
   "source": [
    "**Exercise 5.7 (🌶️🌶️):** Write a function that prints all integers between the parameters `a` and `b` that can be written as the sum of two squares. Produce output in the form of `z = x**2 + y**2`, e.g., `58 = 3**2 + 7**2`. If a number occurs on the list with multiple *different* ways of writing it as the sum of two squares, that is acceptable. "
   ],
   "metadata": {}
  },
  {
   "cell_type": "code",
   "execution_count": 3,
   "source": [
    "#Your Code Here\r\n",
    "def sum_squares():\r\n",
    "    \"\"\"\r\n",
    "    2 = 1**2 + 1**2\r\n",
    "    4 = 0**2 + 2**2\r\n",
    "    4 = 2**2 + 0**2\r\n",
    "    5 = 1**2 + 2**2\r\n",
    "    5 = 2**2 + 1**2\r\n",
    "    8 = 2**2 + 2**2\r\n",
    "    9 = 0**2 + 3**2\r\n",
    "    9 = 3**2 + 0**2\r\n",
    "    \"\"\"\r\n",
    "    return"
   ],
   "outputs": [],
   "metadata": {}
  },
  {
   "cell_type": "code",
   "execution_count": null,
   "source": [],
   "outputs": [],
   "metadata": {}
  }
 ],
 "metadata": {
  "kernelspec": {
   "name": "python3",
   "display_name": "Python 3.8.10 64-bit"
  },
  "language_info": {
   "codemirror_mode": {
    "name": "ipython",
    "version": 3
   },
   "file_extension": ".py",
   "mimetype": "text/x-python",
   "name": "python",
   "nbconvert_exporter": "python",
   "pygments_lexer": "ipython3",
   "version": "3.8.10"
  },
  "interpreter": {
   "hash": "b0301338a379d92ec2fbaeb639951235ab77b652a9d50a6eb4f73f53b59a67ef"
  }
 },
 "nbformat": 4,
 "nbformat_minor": 4
}