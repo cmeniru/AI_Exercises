{
 "cells": [
  {
   "cell_type": "markdown",
   "source": [
    "Here you have a collection of guided exercises for the first class on Python. <br>\n",
    "The exercises are divided by topic, following the topics reviewed during the theory session, and for each topic you have some mandatory exercises, and other optional exercises, which you are invited to do if you still have time after the mandatory exercises. <br>\n",
    "\n",
    "Remember that you have 5 hours to solve these exercises, after which we will review the most interesting exercises together. If you don't finish all the exercises, you can work on them tonightor tomorrow. \n",
    "\n",
    "At the end of the class, we will upload the code with the solutions of the exercises so that you can review them again if needed. If you still have not finished some exercises, try to do them first by yourself, before taking a look at the solutions: you are doing these exercises for yourself, so it is always the best to do them your way first, as it is the fastest way to learn!"
   ],
   "metadata": {}
  },
  {
   "cell_type": "markdown",
   "source": [
    "**Exercise 1.3 (🌶️):** You look at the clock and see that it is currently 14.00h. You set an alarm to go off 535 hours later. At what time will the alarm go off? Write a program that prints the answer. Hint: for the best solution, you will need the modulo operator. Second hint: The answer is 21.00h, but of course, this exercise is not about the answer, but about how you get it."
   ],
   "metadata": {}
  },
  {
   "cell_type": "code",
   "execution_count": 1,
   "source": [
    "def AddTime (start_time,hours):\r\n",
    "    total_hours = start_time + hours\r\n",
    "    timer = total_hours % 24\r\n",
    "\r\n",
    "    return(timer)\r\n",
    "\r\n",
    "\r\n",
    "AddTime (14,535)"
   ],
   "outputs": [
    {
     "output_type": "execute_result",
     "data": {
      "text/plain": [
       "21"
      ]
     },
     "metadata": {},
     "execution_count": 1
    }
   ],
   "metadata": {}
  },
  {
   "cell_type": "markdown",
   "source": [
    "**Exercise 5.4 (🌶️):** \"99 bottles of beer\" is a traditional song in the United States and Canada. It is popular to sing on long trips, as it has a very repetitive format which is easy to memorize, and can take a long time to sing. The song's simple lyrics are as follows: \"99 bottles of beer on the wall, 99 bottles of beer. Take one down, pass it around, 98 bottles of beer on the wall.\" The same verse is repeated, each time with one fewer bottle. The song is completed when the singer or singers reach zero. Write a function that generates and prints all the verses of the song (though you might start a bit lower, for instance with 10 bottles). Make sure that your loop is not endless, and that you use the proper inflection for the word \"bottle\"."
   ],
   "metadata": {}
  },
  {
   "cell_type": "code",
   "execution_count": 6,
   "source": [
    "#Your Code Here\r\n",
    "def beersong(number_of_bottles):\r\n",
    "    for i in range(number_of_bottles,0,-1):\r\n",
    "        if i == 1:\r\n",
    "            btl = \"bottle\"\r\n",
    "        else :\r\n",
    "            btl = \"bottles\"\r\n",
    "           \r\n",
    "        if (i-1) == 1 :\r\n",
    "            bt2 = \"bottle\"\r\n",
    "        else :\r\n",
    "            bt2 = \"bottles\" \r\n",
    "\r\n",
    "        startstr = (str(i) + ' '+ btl +' of beer on the wall, ' + str(i) + ' '+ btl +' of beer. Take one down, pass it around, ' + str(i-1) + ' '+ bt2 +' of beer in the wall ')\r\n",
    "        print(startstr)\r\n",
    "    \r\n",
    "\r\n",
    "beersong(10)\r\n",
    "\r\n"
   ],
   "outputs": [
    {
     "output_type": "stream",
     "name": "stdout",
     "text": [
      "10 bottles of beer on the wall, 10 bottles of beer. Take one down, pass it around, 9 bottles of beer in the wall \n",
      "9 bottles of beer on the wall, 9 bottles of beer. Take one down, pass it around, 8 bottles of beer in the wall \n",
      "8 bottles of beer on the wall, 8 bottles of beer. Take one down, pass it around, 7 bottles of beer in the wall \n",
      "7 bottles of beer on the wall, 7 bottles of beer. Take one down, pass it around, 6 bottles of beer in the wall \n",
      "6 bottles of beer on the wall, 6 bottles of beer. Take one down, pass it around, 5 bottles of beer in the wall \n",
      "5 bottles of beer on the wall, 5 bottles of beer. Take one down, pass it around, 4 bottles of beer in the wall \n",
      "4 bottles of beer on the wall, 4 bottles of beer. Take one down, pass it around, 3 bottles of beer in the wall \n",
      "3 bottles of beer on the wall, 3 bottles of beer. Take one down, pass it around, 2 bottles of beer in the wall \n",
      "2 bottles of beer on the wall, 2 bottles of beer. Take one down, pass it around, 1 bottle of beer in the wall \n",
      "1 bottle of beer on the wall, 1 bottle of beer. Take one down, pass it around, 0 bottles of beer in the wall \n"
     ]
    }
   ],
   "metadata": {}
  },
  {
   "cell_type": "markdown",
   "source": [
    "**Exercise 5.5 (🌶️):** The Fibonacci sequence is a sequence of numbers that starts with 1, followed by 1 again. Every next number is the sum of the two previous numbers. I.e., the sequence starts with 1, 1, 2, 3, 5, 8, 13, 21,... Write a function that calculates and prints the Fibonacci sequence until the numbers get higher than a `maximum`."
   ],
   "metadata": {}
  },
  {
   "cell_type": "code",
   "execution_count": 9,
   "source": [
    "\r\n",
    "# Fibonacci\r\n",
    "\r\n",
    "def fib(max_num) :\r\n",
    "    x ,y = 0 ,1\r\n",
    "    output=[0]\r\n",
    "    while y < max_num :\r\n",
    "        output.append(y)\r\n",
    "        x, y = y, x+y\r\n",
    "\r\n",
    "    replaced_chars = \"[]\"\t\t\t\t\t\t\t\t\t\t\t\t\t\r\n",
    "    rp_length = len(replaced_chars)\r\n",
    "    stringo = str(output)\r\n",
    "    removed_chars = str.maketrans(replaced_chars ,rp_length*\" \")\r\n",
    "\r\n",
    "    print(\"Fibonacci sequence up to \" + str(max_num) + \":\" + \"\\n\"  + stringo.translate(removed_chars).strip())\r\n",
    "   \r\n",
    "  \r\n",
    "\r\n",
    "\r\n",
    "fib(22)\r\n"
   ],
   "outputs": [
    {
     "output_type": "stream",
     "name": "stdout",
     "text": [
      "Fibonacci sequence up to 22:\n",
      "0, 1, 1, 2, 3, 5, 8, 13, 21\n"
     ]
    }
   ],
   "metadata": {}
  },
  {
   "cell_type": "markdown",
   "source": [
    "**Exercise 5.8 (🌶️):** A, B, C, and D are all different digits. The number DCBA is equal to 4 times the number ABCD. What are the digits? Note: to make ABCD and DCBA conventional numbers, neither A nor D can be zero. Use a quadruple-nested loop."
   ],
   "metadata": {}
  },
  {
   "cell_type": "code",
   "execution_count": 10,
   "source": [
    "#Your Code Here\r\n",
    "\r\n",
    "# Solve 4*ABCD == DCBA\r\n",
    "digits = [0, 1, 2, 3, 4, 5, 6, 7, 8, 9]\r\n",
    "\r\n",
    "def nested_nest(digits):\r\n",
    "    for a in digits[1:]:\r\n",
    "        for b in digits:\r\n",
    "            for c in digits:\r\n",
    "                for d in digits[1:]:\r\n",
    "                    if 4*(a*1000+b*100+c*10+d*1) == (d*1000+c*100+b*10+a*1):\r\n",
    "                        print('A =', a)\r\n",
    "                        print('B =', b)\r\n",
    "                        print('C =', c)\r\n",
    "                        print('D =', d)\r\n",
    "nested_nest(digits)\r\n",
    "    "
   ],
   "outputs": [
    {
     "output_type": "stream",
     "name": "stdout",
     "text": [
      "A = 2\n",
      "B = 1\n",
      "C = 7\n",
      "D = 8\n"
     ]
    }
   ],
   "metadata": {}
  }
 ],
 "metadata": {
  "kernelspec": {
   "name": "python3",
   "display_name": "Python 3.8.10 64-bit"
  },
  "language_info": {
   "codemirror_mode": {
    "name": "ipython",
    "version": 3
   },
   "file_extension": ".py",
   "mimetype": "text/x-python",
   "name": "python",
   "nbconvert_exporter": "python",
   "pygments_lexer": "ipython3",
   "version": "3.8.10"
  },
  "interpreter": {
   "hash": "b0301338a379d92ec2fbaeb639951235ab77b652a9d50a6eb4f73f53b59a67ef"
  }
 },
 "nbformat": 4,
 "nbformat_minor": 4
}