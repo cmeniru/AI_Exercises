{
 "cells": [
  {
   "cell_type": "code",
   "execution_count": 2,
   "source": [
    "import requests\r\n",
    "from bs4 import BeautifulSoup  \r\n",
    "import pandas as pd"
   ],
   "outputs": [],
   "metadata": {}
  },
  {
   "cell_type": "code",
   "execution_count": 3,
   "source": [
    "page = requests.get('https://forecast.weather.gov/MapClick.php?x=276&y=148&site=lox&zmx=&zmy=&map_x=276&map_y=148#.YVLsULhKjb0')\r\n",
    "print(page)"
   ],
   "outputs": [
    {
     "output_type": "stream",
     "name": "stdout",
     "text": [
      "<Response [200]>\n"
     ]
    }
   ],
   "metadata": {}
  },
  {
   "cell_type": "code",
   "execution_count": 4,
   "source": [
    "soup = BeautifulSoup(page.content, 'html.parser')\r\n",
    "temp = soup.find('p', class_='myforecast-current-lrg')\r\n",
    "print(temp.get_text())"
   ],
   "outputs": [
    {
     "output_type": "stream",
     "name": "stdout",
     "text": [
      "64°F\n"
     ]
    }
   ],
   "metadata": {}
  },
  {
   "cell_type": "code",
   "execution_count": 6,
   "source": [
    "div = soup.find_all('div', id='current_conditions-summary')\r\n",
    "print(div)"
   ],
   "outputs": [
    {
     "output_type": "stream",
     "name": "stdout",
     "text": [
      "[<div class=\"pull-left\" id=\"current_conditions-summary\">\n",
      "<img alt=\"\" class=\"pull-left\" src=\"newimages/large/novc.png\"/>\n",
      "<p class=\"myforecast-current\">Overcast</p>\n",
      "<p class=\"myforecast-current-lrg\">64°F</p>\n",
      "<p class=\"myforecast-current-sm\">18°C</p>\n",
      "</div>]\n"
     ]
    }
   ],
   "metadata": {}
  },
  {
   "cell_type": "code",
   "execution_count": 7,
   "source": [
    "haze = div[0].find_all('p')"
   ],
   "outputs": [],
   "metadata": {}
  },
  {
   "cell_type": "code",
   "execution_count": 14,
   "source": [
    "for p in haze:\r\n",
    "    print(p.text)"
   ],
   "outputs": [
    {
     "output_type": "stream",
     "name": "stdout",
     "text": [
      "Overcast\n",
      "64°F\n",
      "18°C\n"
     ]
    }
   ],
   "metadata": {}
  },
  {
   "cell_type": "code",
   "execution_count": 9,
   "source": [
    "# Easy Exercise\r\n",
    "\r\n",
    "div = soup.find_all('div', class_='forecast-label')\r\n",
    "print(div)"
   ],
   "outputs": [
    {
     "output_type": "stream",
     "name": "stdout",
     "text": [
      "[<div class=\"col-sm-2 forecast-label\"><b>Overnight</b></div>, <div class=\"col-sm-2 forecast-label\"><b>Tuesday</b></div>, <div class=\"col-sm-2 forecast-label\"><b>Tuesday Night</b></div>, <div class=\"col-sm-2 forecast-label\"><b>Wednesday</b></div>, <div class=\"col-sm-2 forecast-label\"><b>Wednesday Night</b></div>, <div class=\"col-sm-2 forecast-label\"><b>Thursday</b></div>, <div class=\"col-sm-2 forecast-label\"><b>Thursday Night</b></div>, <div class=\"col-sm-2 forecast-label\"><b>Friday</b></div>, <div class=\"col-sm-2 forecast-label\"><b>Friday Night</b></div>, <div class=\"col-sm-2 forecast-label\"><b>Saturday</b></div>, <div class=\"col-sm-2 forecast-label\"><b>Saturday Night</b></div>, <div class=\"col-sm-2 forecast-label\"><b>Sunday</b></div>, <div class=\"col-sm-2 forecast-label\"><b>Sunday Night</b></div>, <div class=\"col-sm-2 forecast-label\"><b>Monday</b></div>]\n"
     ]
    }
   ],
   "metadata": {}
  },
  {
   "cell_type": "code",
   "execution_count": 15,
   "source": [
    "len(div)"
   ],
   "outputs": [
    {
     "output_type": "execute_result",
     "data": {
      "text/plain": [
       "14"
      ]
     },
     "metadata": {},
     "execution_count": 15
    }
   ],
   "metadata": {}
  },
  {
   "cell_type": "code",
   "execution_count": 10,
   "source": [
    "forecast_days = []\r\n",
    "for i in range(len(div)):\r\n",
    "    days = div[i].find_all('b')\r\n",
    "    days = div[i].text\r\n",
    "    forecast_days.append(days)"
   ],
   "outputs": [],
   "metadata": {}
  },
  {
   "cell_type": "code",
   "execution_count": 18,
   "source": [
    "final_days = forecast_days[1:11]\r\n",
    "print(final_days)"
   ],
   "outputs": [
    {
     "output_type": "stream",
     "name": "stdout",
     "text": [
      "['Tuesday', 'Tuesday Night', 'Wednesday', 'Wednesday Night', 'Thursday', 'Thursday Night', 'Friday', 'Friday Night', 'Saturday', 'Saturday Night']\n"
     ]
    }
   ],
   "metadata": {}
  },
  {
   "cell_type": "code",
   "execution_count": 19,
   "source": [
    "df = pd.DataFrame(final_days)\r\n",
    "df.columns = ['Days']\r\n",
    "df"
   ],
   "outputs": [
    {
     "output_type": "execute_result",
     "data": {
      "text/html": [
       "<div>\n",
       "<style scoped>\n",
       "    .dataframe tbody tr th:only-of-type {\n",
       "        vertical-align: middle;\n",
       "    }\n",
       "\n",
       "    .dataframe tbody tr th {\n",
       "        vertical-align: top;\n",
       "    }\n",
       "\n",
       "    .dataframe thead th {\n",
       "        text-align: right;\n",
       "    }\n",
       "</style>\n",
       "<table border=\"1\" class=\"dataframe\">\n",
       "  <thead>\n",
       "    <tr style=\"text-align: right;\">\n",
       "      <th></th>\n",
       "      <th>Days</th>\n",
       "    </tr>\n",
       "  </thead>\n",
       "  <tbody>\n",
       "    <tr>\n",
       "      <th>0</th>\n",
       "      <td>Tuesday</td>\n",
       "    </tr>\n",
       "    <tr>\n",
       "      <th>1</th>\n",
       "      <td>Tuesday Night</td>\n",
       "    </tr>\n",
       "    <tr>\n",
       "      <th>2</th>\n",
       "      <td>Wednesday</td>\n",
       "    </tr>\n",
       "    <tr>\n",
       "      <th>3</th>\n",
       "      <td>Wednesday Night</td>\n",
       "    </tr>\n",
       "    <tr>\n",
       "      <th>4</th>\n",
       "      <td>Thursday</td>\n",
       "    </tr>\n",
       "    <tr>\n",
       "      <th>5</th>\n",
       "      <td>Thursday Night</td>\n",
       "    </tr>\n",
       "    <tr>\n",
       "      <th>6</th>\n",
       "      <td>Friday</td>\n",
       "    </tr>\n",
       "    <tr>\n",
       "      <th>7</th>\n",
       "      <td>Friday Night</td>\n",
       "    </tr>\n",
       "    <tr>\n",
       "      <th>8</th>\n",
       "      <td>Saturday</td>\n",
       "    </tr>\n",
       "    <tr>\n",
       "      <th>9</th>\n",
       "      <td>Saturday Night</td>\n",
       "    </tr>\n",
       "  </tbody>\n",
       "</table>\n",
       "</div>"
      ],
      "text/plain": [
       "              Days\n",
       "0          Tuesday\n",
       "1    Tuesday Night\n",
       "2        Wednesday\n",
       "3  Wednesday Night\n",
       "4         Thursday\n",
       "5   Thursday Night\n",
       "6           Friday\n",
       "7     Friday Night\n",
       "8         Saturday\n",
       "9   Saturday Night"
      ]
     },
     "metadata": {},
     "execution_count": 19
    }
   ],
   "metadata": {}
  },
  {
   "cell_type": "code",
   "execution_count": 30,
   "source": [
    "one_day= forecast_days[1:2]\r\n",
    "print(one_day)"
   ],
   "outputs": [
    {
     "output_type": "stream",
     "name": "stdout",
     "text": [
      "['Tuesday']\n"
     ]
    }
   ],
   "metadata": {}
  },
  {
   "cell_type": "code",
   "execution_count": 39,
   "source": [
    "div1 = soup.find_all('td', class_='text-right')\r\n",
    "print(div1)"
   ],
   "outputs": [
    {
     "output_type": "stream",
     "name": "stdout",
     "text": [
      "[<td class=\"text-right\"><b>Humidity</b></td>, <td class=\"text-right\"><b>Wind Speed</b></td>, <td class=\"text-right\"><b>Barometer</b></td>, <td class=\"text-right\"><b>Dewpoint</b></td>, <td class=\"text-right\"><b>Visibility</b></td>, <td class=\"text-right\"><b>Last update</b></td>]\n"
     ]
    }
   ],
   "metadata": {}
  }
 ],
 "metadata": {
  "orig_nbformat": 4,
  "language_info": {
   "name": "python",
   "version": "3.8.11",
   "mimetype": "text/x-python",
   "codemirror_mode": {
    "name": "ipython",
    "version": 3
   },
   "pygments_lexer": "ipython3",
   "nbconvert_exporter": "python",
   "file_extension": ".py"
  },
  "kernelspec": {
   "name": "python3",
   "display_name": "Python 3.8.11 64-bit ('strive': conda)"
  },
  "interpreter": {
   "hash": "a7f87bc1b7dc357406adb3dea5ff37d93665457767e36912f0c81cdd99c57b83"
  }
 },
 "nbformat": 4,
 "nbformat_minor": 2
}